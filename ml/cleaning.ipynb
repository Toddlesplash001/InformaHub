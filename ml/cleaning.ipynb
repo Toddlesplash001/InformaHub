{
 "cells": [
  {
   "cell_type": "code",
   "execution_count": 1,
   "id": "533fd71e",
   "metadata": {},
   "outputs": [
    {
     "name": "stdout",
     "output_type": "stream",
     "text": [
      "Package                 Version\n",
      "----------------------- -----------\n",
      "asttokens               3.0.0\n",
      "colorama                0.4.6\n",
      "comm                    0.2.2\n",
      "debugpy                 1.8.15\n",
      "decorator               5.2.1\n",
      "executing               2.2.0\n",
      "ipykernel               6.29.5\n",
      "ipython                 9.4.0\n",
      "ipython_pygments_lexers 1.1.1\n",
      "jedi                    0.19.2\n",
      "jupyter_client          8.6.3\n",
      "jupyter_core            5.8.1\n",
      "matplotlib-inline       0.1.7\n",
      "nest-asyncio            1.6.0\n",
      "numpy                   2.3.1\n",
      "packaging               25.0\n",
      "pandas                  2.3.1\n",
      "parso                   0.8.4\n",
      "pip                     25.1.1\n",
      "platformdirs            4.3.8\n",
      "prompt_toolkit          3.0.51\n",
      "psutil                  7.0.0\n",
      "pure_eval               0.2.3\n",
      "Pygments                2.19.2\n",
      "python-dateutil         2.9.0.post0\n",
      "pytz                    2025.2\n",
      "pywin32                 311\n",
      "pyzmq                   27.0.0\n",
      "setuptools              65.5.0\n",
      "six                     1.17.0\n",
      "stack-data              0.6.3\n",
      "tornado                 6.5.1\n",
      "traitlets               5.14.3\n",
      "typing_extensions       4.14.1\n",
      "tzdata                  2025.2\n",
      "wcwidth                 0.2.13\n"
     ]
    }
   ],
   "source": [
    "!pip list"
   ]
  },
  {
   "cell_type": "code",
   "execution_count": 2,
   "id": "ecf38454",
   "metadata": {},
   "outputs": [],
   "source": [
    "import numpy as np\n",
    "import pandas as pd "
   ]
  },
  {
   "cell_type": "code",
   "execution_count": 3,
   "id": "bcbe006f",
   "metadata": {},
   "outputs": [],
   "source": [
    "df = pd.read_csv('rss_complete_articles.csv')"
   ]
  },
  {
   "cell_type": "code",
   "execution_count": 4,
   "id": "fe797bd2",
   "metadata": {},
   "outputs": [
    {
     "name": "stdout",
     "output_type": "stream",
     "text": [
      "Initial shape: (30, 6)\n",
      "Index(['Source', 'Title', 'Link', 'Published', 'Content', 'HTML_File'], dtype='object')\n"
     ]
    }
   ],
   "source": [
    "print(\"Initial shape:\", df.shape)\n",
    "print(df.columns)"
   ]
  },
  {
   "cell_type": "code",
   "execution_count": 5,
   "id": "fae25f6d",
   "metadata": {},
   "outputs": [],
   "source": [
    "df.dropna(subset=['Title', 'Content', 'Published'], inplace=True)"
   ]
  },
  {
   "cell_type": "code",
   "execution_count": 6,
   "id": "b644fbf3",
   "metadata": {},
   "outputs": [],
   "source": [
    "df = df[df['Published'].str.lower() != 'no date']"
   ]
  },
  {
   "cell_type": "code",
   "execution_count": 7,
   "id": "883fa716",
   "metadata": {},
   "outputs": [],
   "source": [
    "df['Published'] = pd.to_datetime(df['Published'], errors='coerce')"
   ]
  },
  {
   "cell_type": "code",
   "execution_count": 8,
   "id": "c8d8b616",
   "metadata": {},
   "outputs": [],
   "source": [
    "df.dropna(subset=['Published'], inplace=True)"
   ]
  },
  {
   "cell_type": "code",
   "execution_count": 9,
   "id": "2049ae8b",
   "metadata": {},
   "outputs": [],
   "source": [
    "\n",
    "df['Title'] = df['Title'].str.strip()\n",
    "df['Content'] = df['Content'].str.strip()\n",
    "df['Source'] = df['Source'].str.strip()"
   ]
  },
  {
   "cell_type": "code",
   "execution_count": 10,
   "id": "e010673f",
   "metadata": {},
   "outputs": [],
   "source": [
    "df.drop_duplicates(subset=['Title'], inplace=True)\n",
    "df.drop_duplicates(subset=['Link'], inplace=True)"
   ]
  },
  {
   "cell_type": "code",
   "execution_count": 11,
   "id": "f7cdc6c8",
   "metadata": {},
   "outputs": [],
   "source": [
    "df.reset_index(drop=True, inplace=True)"
   ]
  },
  {
   "cell_type": "code",
   "execution_count": 12,
   "id": "161068fd",
   "metadata": {},
   "outputs": [
    {
     "name": "stdout",
     "output_type": "stream",
     "text": [
      "After cleaning: (9, 6)\n",
      "                                               Title           Published\n",
      "0  Harry and Meghan call for stronger social medi... 2025-04-24 16:28:07\n",
      "1  UK edges towards post-Brexit youth visa deal w... 2025-04-24 18:34:01\n",
      "2    Student killed in French school stabbing attack 2025-04-24 15:51:00\n",
      "3  Mini heatwave expected as UK set for warmest t... 2025-04-24 13:00:56\n",
      "4  Tanzania opposition officials arrested as Tund... 2025-04-24 14:07:23\n"
     ]
    }
   ],
   "source": [
    "print(\"After cleaning:\", df.shape)\n",
    "print(df[['Title', 'Published']].head())"
   ]
  },
  {
   "cell_type": "code",
   "execution_count": 13,
   "id": "76eba41e",
   "metadata": {},
   "outputs": [
    {
     "name": "stdout",
     "output_type": "stream",
     "text": [
      "✅ Cleaned data saved to cleaned_news_articles.csv\n"
     ]
    }
   ],
   "source": [
    "df.to_csv('cleaned_news_articles.csv', index=False)\n",
    "print(\"✅ Cleaned data saved to cleaned_news_articles.csv\")"
   ]
  },
  {
   "cell_type": "code",
   "execution_count": 14,
   "id": "6c3abb67",
   "metadata": {},
   "outputs": [],
   "source": [
    "import random\n",
    "from datetime import timedelta"
   ]
  },
  {
   "cell_type": "code",
   "execution_count": 22,
   "id": "7d104b7e",
   "metadata": {},
   "outputs": [
    {
     "data": {
      "text/html": [
       "<div>\n",
       "<style scoped>\n",
       "    .dataframe tbody tr th:only-of-type {\n",
       "        vertical-align: middle;\n",
       "    }\n",
       "\n",
       "    .dataframe tbody tr th {\n",
       "        vertical-align: top;\n",
       "    }\n",
       "\n",
       "    .dataframe thead th {\n",
       "        text-align: right;\n",
       "    }\n",
       "</style>\n",
       "<table border=\"1\" class=\"dataframe\">\n",
       "  <thead>\n",
       "    <tr style=\"text-align: right;\">\n",
       "      <th></th>\n",
       "      <th>Source</th>\n",
       "      <th>Title</th>\n",
       "      <th>Link</th>\n",
       "      <th>Published</th>\n",
       "      <th>Content</th>\n",
       "      <th>HTML_File</th>\n",
       "    </tr>\n",
       "  </thead>\n",
       "  <tbody>\n",
       "    <tr>\n",
       "      <th>0</th>\n",
       "      <td>BBC News</td>\n",
       "      <td>Harry and Meghan call for stronger social medi...</td>\n",
       "      <td>https://www.bbc.com/news/articles/cjewne81lq4o</td>\n",
       "      <td>2025-04-24 16:28:07</td>\n",
       "      <td>The Duke and Duchess of Sussex are calling for...</td>\n",
       "      <td>article_html/Harry and Meghan call for stronge...</td>\n",
       "    </tr>\n",
       "    <tr>\n",
       "      <th>1</th>\n",
       "      <td>BBC News</td>\n",
       "      <td>UK edges towards post-Brexit youth visa deal w...</td>\n",
       "      <td>https://www.bbc.com/news/articles/c9qw58r0x0do</td>\n",
       "      <td>2025-04-24 18:34:01</td>\n",
       "      <td>The government is no longer ruling out a youth...</td>\n",
       "      <td>article_html/UK edges towards post-Brexit yout...</td>\n",
       "    </tr>\n",
       "    <tr>\n",
       "      <th>2</th>\n",
       "      <td>BBC News</td>\n",
       "      <td>Student killed in French school stabbing attack</td>\n",
       "      <td>https://www.bbc.com/news/articles/c787r15xngyo</td>\n",
       "      <td>2025-04-24 15:51:00</td>\n",
       "      <td>One student has been killed and at least three...</td>\n",
       "      <td>article_html/Student killed in French school s...</td>\n",
       "    </tr>\n",
       "    <tr>\n",
       "      <th>3</th>\n",
       "      <td>BBC News</td>\n",
       "      <td>Mini heatwave expected as UK set for warmest t...</td>\n",
       "      <td>https://www.bbc.com/weather/articles/c89g5wd3pzeo</td>\n",
       "      <td>2025-04-24 13:00:56</td>\n",
       "      <td>If it feels a bit chilly now, just wait until ...</td>\n",
       "      <td>article_html/Mini heatwave expected as UK set ...</td>\n",
       "    </tr>\n",
       "    <tr>\n",
       "      <th>4</th>\n",
       "      <td>The Guardian</td>\n",
       "      <td>Tanzania opposition officials arrested as Tund...</td>\n",
       "      <td>https://www.theguardian.com/world/2025/apr/24/...</td>\n",
       "      <td>2025-04-24 14:07:23</td>\n",
       "      <td>Chadema spokesperson says party’s vice-chair J...</td>\n",
       "      <td>article_html/Tanzania opposition officials arr...</td>\n",
       "    </tr>\n",
       "  </tbody>\n",
       "</table>\n",
       "</div>"
      ],
      "text/plain": [
       "         Source                                              Title  \\\n",
       "0      BBC News  Harry and Meghan call for stronger social medi...   \n",
       "1      BBC News  UK edges towards post-Brexit youth visa deal w...   \n",
       "2      BBC News    Student killed in French school stabbing attack   \n",
       "3      BBC News  Mini heatwave expected as UK set for warmest t...   \n",
       "4  The Guardian  Tanzania opposition officials arrested as Tund...   \n",
       "\n",
       "                                                Link            Published  \\\n",
       "0     https://www.bbc.com/news/articles/cjewne81lq4o  2025-04-24 16:28:07   \n",
       "1     https://www.bbc.com/news/articles/c9qw58r0x0do  2025-04-24 18:34:01   \n",
       "2     https://www.bbc.com/news/articles/c787r15xngyo  2025-04-24 15:51:00   \n",
       "3  https://www.bbc.com/weather/articles/c89g5wd3pzeo  2025-04-24 13:00:56   \n",
       "4  https://www.theguardian.com/world/2025/apr/24/...  2025-04-24 14:07:23   \n",
       "\n",
       "                                             Content  \\\n",
       "0  The Duke and Duchess of Sussex are calling for...   \n",
       "1  The government is no longer ruling out a youth...   \n",
       "2  One student has been killed and at least three...   \n",
       "3  If it feels a bit chilly now, just wait until ...   \n",
       "4  Chadema spokesperson says party’s vice-chair J...   \n",
       "\n",
       "                                           HTML_File  \n",
       "0  article_html/Harry and Meghan call for stronge...  \n",
       "1  article_html/UK edges towards post-Brexit yout...  \n",
       "2  article_html/Student killed in French school s...  \n",
       "3  article_html/Mini heatwave expected as UK set ...  \n",
       "4  article_html/Tanzania opposition officials arr...  "
      ]
     },
     "execution_count": 22,
     "metadata": {},
     "output_type": "execute_result"
    }
   ],
   "source": [
    "df1 = pd.read_csv('cleaned_news_articles.csv')\n",
    "df1.head()"
   ]
  },
  {
   "cell_type": "code",
   "execution_count": 24,
   "id": "97753071",
   "metadata": {},
   "outputs": [
    {
     "name": "stdout",
     "output_type": "stream",
     "text": [
      "✅ Augmented dataset created with 90 entries.\n"
     ]
    }
   ],
   "source": [
    "import pandas as pd\n",
    "from datetime import timedelta\n",
    "import random\n",
    "\n",
    "# Load the cleaned dataset\n",
    "df = pd.read_csv('cleaned_news_articles.csv')\n",
    "\n",
    "n_variants = 10  # Number of synthetic versions per article\n",
    "augmented_data = []\n",
    "\n",
    "# Generate synthetic variants\n",
    "for idx, row in df1.iterrows():\n",
    "    for i in range(n_variants):\n",
    "        new_row = {\n",
    "            'Title': f\"{row['Title']} [v{i+1}]\",\n",
    "            'Content': f\"{row['Content']} (Simulated Variant {i+1})\",\n",
    "            'Published': pd.to_datetime(row['Published'], errors='coerce') + timedelta(minutes=random.randint(0, 1440)),\n",
    "            'Source': row['Source'],\n",
    "            'Link': row['Link']\n",
    "        }\n",
    "        augmented_data.append(new_row)\n",
    "\n",
    "# Save the synthetic dataset\n",
    "augmented_df = pd.DataFrame(augmented_data)\n",
    "augmented_df.to_csv('augmented_articles.csv', index=False)\n",
    "\n",
    "print(\"✅ Augmented dataset created with\", len(augmented_df), \"entries.\")\n"
   ]
  },
  {
   "cell_type": "code",
   "execution_count": 26,
   "id": "03192a61",
   "metadata": {},
   "outputs": [
    {
     "data": {
      "text/html": [
       "<div>\n",
       "<style scoped>\n",
       "    .dataframe tbody tr th:only-of-type {\n",
       "        vertical-align: middle;\n",
       "    }\n",
       "\n",
       "    .dataframe tbody tr th {\n",
       "        vertical-align: top;\n",
       "    }\n",
       "\n",
       "    .dataframe thead th {\n",
       "        text-align: right;\n",
       "    }\n",
       "</style>\n",
       "<table border=\"1\" class=\"dataframe\">\n",
       "  <thead>\n",
       "    <tr style=\"text-align: right;\">\n",
       "      <th></th>\n",
       "      <th>Title</th>\n",
       "      <th>Content</th>\n",
       "      <th>Published</th>\n",
       "      <th>Source</th>\n",
       "      <th>Link</th>\n",
       "    </tr>\n",
       "  </thead>\n",
       "  <tbody>\n",
       "    <tr>\n",
       "      <th>0</th>\n",
       "      <td>Harry and Meghan call for stronger social medi...</td>\n",
       "      <td>The Duke and Duchess of Sussex are calling for...</td>\n",
       "      <td>2025-04-24 20:41:07</td>\n",
       "      <td>BBC News</td>\n",
       "      <td>https://www.bbc.com/news/articles/cjewne81lq4o</td>\n",
       "    </tr>\n",
       "    <tr>\n",
       "      <th>1</th>\n",
       "      <td>Harry and Meghan call for stronger social medi...</td>\n",
       "      <td>The Duke and Duchess of Sussex are calling for...</td>\n",
       "      <td>2025-04-25 07:00:07</td>\n",
       "      <td>BBC News</td>\n",
       "      <td>https://www.bbc.com/news/articles/cjewne81lq4o</td>\n",
       "    </tr>\n",
       "    <tr>\n",
       "      <th>2</th>\n",
       "      <td>Harry and Meghan call for stronger social medi...</td>\n",
       "      <td>The Duke and Duchess of Sussex are calling for...</td>\n",
       "      <td>2025-04-25 14:33:07</td>\n",
       "      <td>BBC News</td>\n",
       "      <td>https://www.bbc.com/news/articles/cjewne81lq4o</td>\n",
       "    </tr>\n",
       "    <tr>\n",
       "      <th>3</th>\n",
       "      <td>Harry and Meghan call for stronger social medi...</td>\n",
       "      <td>The Duke and Duchess of Sussex are calling for...</td>\n",
       "      <td>2025-04-24 21:07:07</td>\n",
       "      <td>BBC News</td>\n",
       "      <td>https://www.bbc.com/news/articles/cjewne81lq4o</td>\n",
       "    </tr>\n",
       "    <tr>\n",
       "      <th>4</th>\n",
       "      <td>Harry and Meghan call for stronger social medi...</td>\n",
       "      <td>The Duke and Duchess of Sussex are calling for...</td>\n",
       "      <td>2025-04-25 05:22:07</td>\n",
       "      <td>BBC News</td>\n",
       "      <td>https://www.bbc.com/news/articles/cjewne81lq4o</td>\n",
       "    </tr>\n",
       "  </tbody>\n",
       "</table>\n",
       "</div>"
      ],
      "text/plain": [
       "                                               Title  \\\n",
       "0  Harry and Meghan call for stronger social medi...   \n",
       "1  Harry and Meghan call for stronger social medi...   \n",
       "2  Harry and Meghan call for stronger social medi...   \n",
       "3  Harry and Meghan call for stronger social medi...   \n",
       "4  Harry and Meghan call for stronger social medi...   \n",
       "\n",
       "                                             Content           Published  \\\n",
       "0  The Duke and Duchess of Sussex are calling for... 2025-04-24 20:41:07   \n",
       "1  The Duke and Duchess of Sussex are calling for... 2025-04-25 07:00:07   \n",
       "2  The Duke and Duchess of Sussex are calling for... 2025-04-25 14:33:07   \n",
       "3  The Duke and Duchess of Sussex are calling for... 2025-04-24 21:07:07   \n",
       "4  The Duke and Duchess of Sussex are calling for... 2025-04-25 05:22:07   \n",
       "\n",
       "     Source                                            Link  \n",
       "0  BBC News  https://www.bbc.com/news/articles/cjewne81lq4o  \n",
       "1  BBC News  https://www.bbc.com/news/articles/cjewne81lq4o  \n",
       "2  BBC News  https://www.bbc.com/news/articles/cjewne81lq4o  \n",
       "3  BBC News  https://www.bbc.com/news/articles/cjewne81lq4o  \n",
       "4  BBC News  https://www.bbc.com/news/articles/cjewne81lq4o  "
      ]
     },
     "execution_count": 26,
     "metadata": {},
     "output_type": "execute_result"
    }
   ],
   "source": [
    "augmented_df.head()"
   ]
  },
  {
   "cell_type": "code",
   "execution_count": 25,
   "id": "0f6f8ffa",
   "metadata": {},
   "outputs": [
    {
     "name": "stdout",
     "output_type": "stream",
     "text": [
      "✅ Generated user_interactions.csv with 378 rows.\n"
     ]
    }
   ],
   "source": [
    "import pandas as pd\n",
    "import random\n",
    "from datetime import datetime, timedelta\n",
    "\n",
    "# Load the augmented articles\n",
    "articles_df = pd.read_csv('augmented_articles.csv')\n",
    "num_users = 20\n",
    "users = [f'user_{i}' for i in range(1, num_users + 1)]\n",
    "\n",
    "# Assign article IDs\n",
    "articles_df['article_id'] = range(1, len(articles_df) + 1)\n",
    "\n",
    "# Simulate interactions\n",
    "interactions = []\n",
    "for user in users:\n",
    "    interacted_articles = random.sample(list(articles_df['article_id']), k=random.randint(10, 30))\n",
    "    for article_id in interacted_articles:\n",
    "        interactions.append({\n",
    "            'user_id': user,\n",
    "            'article_id': article_id,\n",
    "            'interaction_type': 'read',\n",
    "            'timestamp': datetime.now() - timedelta(days=random.randint(0, 30))\n",
    "        })\n",
    "\n",
    "interactions_df = pd.DataFrame(interactions)\n",
    "interactions_df.to_csv('user_interactions.csv', index=False)\n",
    "articles_df.to_csv('augmented_articles_with_ids.csv', index=False)\n",
    "\n",
    "print(\"✅ Generated user_interactions.csv with\", len(interactions_df), \"rows.\")\n"
   ]
  }
 ],
 "metadata": {
  "kernelspec": {
   "display_name": ".venv",
   "language": "python",
   "name": "python3"
  },
  "language_info": {
   "codemirror_mode": {
    "name": "ipython",
    "version": 3
   },
   "file_extension": ".py",
   "mimetype": "text/x-python",
   "name": "python",
   "nbconvert_exporter": "python",
   "pygments_lexer": "ipython3",
   "version": "3.11.0"
  }
 },
 "nbformat": 4,
 "nbformat_minor": 5
}
