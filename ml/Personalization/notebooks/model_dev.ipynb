{
 "cells": [
  {
   "cell_type": "code",
   "execution_count": 1,
   "id": "98c676e8",
   "metadata": {},
   "outputs": [],
   "source": [
    "import sys\n",
    "sys.path.append('..')"
   ]
  },
  {
   "cell_type": "code",
   "execution_count": 2,
   "id": "c06118f6",
   "metadata": {},
   "outputs": [
    {
     "name": "stdout",
     "output_type": "stream",
     "text": [
      "Loading dataset from: c:\\Users\\tusha\\OneDrive\\Desktop\\news_ml\\app\\data\\augmented_articles.csv\n"
     ]
    },
    {
     "name": "stderr",
     "output_type": "stream",
     "text": [
      "c:\\Users\\tusha\\OneDrive\\Desktop\\news_ml\\.venv\\Lib\\site-packages\\keras\\src\\layers\\core\\embedding.py:97: UserWarning: Argument `input_length` is deprecated. Just remove it.\n",
      "  warnings.warn(\n"
     ]
    },
    {
     "name": "stdout",
     "output_type": "stream",
     "text": [
      "Epoch 1/5\n",
      "\u001b[1m14/14\u001b[0m \u001b[32m━━━━━━━━━━━━━━━━━━━━\u001b[0m\u001b[37m\u001b[0m \u001b[1m1s\u001b[0m 24ms/step - loss: 11.6834 - mae: 3.1095 - val_loss: 10.6713 - val_mae: 2.9851\n",
      "Epoch 2/5\n",
      "\u001b[1m14/14\u001b[0m \u001b[32m━━━━━━━━━━━━━━━━━━━━\u001b[0m\u001b[37m\u001b[0m \u001b[1m0s\u001b[0m 10ms/step - loss: 11.4099 - mae: 3.0578 - val_loss: 10.5896 - val_mae: 2.9714\n",
      "Epoch 3/5\n",
      "\u001b[1m14/14\u001b[0m \u001b[32m━━━━━━━━━━━━━━━━━━━━\u001b[0m\u001b[37m\u001b[0m \u001b[1m0s\u001b[0m 8ms/step - loss: 11.5042 - mae: 3.0678 - val_loss: 10.5089 - val_mae: 2.9579\n",
      "Epoch 4/5\n",
      "\u001b[1m14/14\u001b[0m \u001b[32m━━━━━━━━━━━━━━━━━━━━\u001b[0m\u001b[37m\u001b[0m \u001b[1m0s\u001b[0m 9ms/step - loss: 11.6489 - mae: 3.0861 - val_loss: 10.4286 - val_mae: 2.9443\n",
      "Epoch 5/5\n",
      "\u001b[1m14/14\u001b[0m \u001b[32m━━━━━━━━━━━━━━━━━━━━\u001b[0m\u001b[37m\u001b[0m \u001b[1m0s\u001b[0m 9ms/step - loss: 10.6917 - mae: 2.9524 - val_loss: 10.3494 - val_mae: 2.9309\n"
     ]
    },
    {
     "name": "stderr",
     "output_type": "stream",
     "text": [
      "WARNING:absl:You are saving your model as an HDF5 file via `model.save()` or `keras.saving.save_model(model)`. This file format is considered legacy. We recommend using instead the native Keras format, e.g. `model.save('my_model.keras')` or `keras.saving.save_model(model, 'my_model.keras')`. \n"
     ]
    }
   ],
   "source": [
    "# notebooks/model_dev.ipynb (or convert to .py later)\n",
    "\n",
    "import tensorflow as tf\n",
    "from tensorflow.keras.models import Model\n",
    "from tensorflow.keras.layers import Input, Embedding, Dot, Flatten, Dense\n",
    "from app.utils.preprocess import load_and_prepare_data\n",
    "\n",
    "# In your notebook cell\n",
    "\n",
    "inter_df, num_users, num_articles = load_and_prepare_data(path=\"../app/data/augmented_articles.csv\")\n",
    "\n",
    "# Build model\n",
    "user_input = Input(shape=(1,))\n",
    "article_input = Input(shape=(1,))\n",
    "\n",
    "user_embedding = Embedding(num_users, 50, input_length=1)(user_input)\n",
    "article_embedding = Embedding(num_articles, 50, input_length=1)(article_input)\n",
    "\n",
    "dot_product = Dot(axes=2)([user_embedding, article_embedding])\n",
    "dot_product = Flatten()(dot_product)\n",
    "output = Dense(1, activation='linear')(dot_product)\n",
    "\n",
    "model = Model(inputs=[user_input, article_input], outputs=output)\n",
    "model.compile(optimizer='adam', loss='mse', metrics=['mae'])\n",
    "\n",
    "# Train\n",
    "model.fit(\n",
    "    [inter_df['user'], inter_df['article']],\n",
    "    inter_df['interaction'],\n",
    "    epochs=5,\n",
    "    batch_size=32,\n",
    "    validation_split=0.1\n",
    ")\n",
    "\n",
    "# Save\n",
    "model.save(\"../ml_models/nn_model.h5\")\n"
   ]
  },
  {
   "cell_type": "code",
   "execution_count": null,
   "id": "424ebcb1",
   "metadata": {},
   "outputs": [
    {
     "name": "stdout",
     "output_type": "stream",
     "text": [
      "Loading dataset from: c:\\Users\\tusha\\OneDrive\\Desktop\\news_ml\\app\\data\\augmented_articles.csv\n"
     ]
    }
   ],
   "source": [
    "# This goes near the top of your notebook/script\n",
    "from app.utils.preprocess import load_articles\n",
    "from app.utils.preprocess import load_and_prepare_data\n",
    "# Load and prepare article DataFrame with temporary IDs\n",
    "articles_df = load_articles()\n",
    "articles_temp_df = articles_df.copy()\n",
    "articles_temp_df['article_id'] = range(1, len(articles_temp_df) + 1)\n",
    "inter_df, num_users, num_articles = load_and_prepare_data(path=\"../app/data/augmented_articles.csv\")\n",
    "# ID mapping dictionaries\n",
    "id_to_Link = dict(zip(articles_temp_df['article_id'], articles_temp_df['Link']))\n",
    "Link_to_id = dict(zip(articles_temp_df['Link'], articles_temp_df['article_id']))\n",
    "\n",
    "\n"
   ]
  },
  {
   "cell_type": "code",
   "execution_count": 7,
   "id": "aed068e7",
   "metadata": {},
   "outputs": [],
   "source": [
    "from app.services.collab_filter import ItemBasedRecommender\n",
    "\n",
    "# Create recommender and fit it with article_id as key\n",
    "recommender = ItemBasedRecommender()\n",
    "recommender.fit(inter_df, articles_temp_df, id_column='article_id')\n",
    "\n"
   ]
  },
  {
   "cell_type": "code",
   "execution_count": 12,
   "id": "d976b3e4",
   "metadata": {},
   "outputs": [
    {
     "data": {
      "text/html": [
       "<div>\n",
       "<style scoped>\n",
       "    .dataframe tbody tr th:only-of-type {\n",
       "        vertical-align: middle;\n",
       "    }\n",
       "\n",
       "    .dataframe tbody tr th {\n",
       "        vertical-align: top;\n",
       "    }\n",
       "\n",
       "    .dataframe thead th {\n",
       "        text-align: right;\n",
       "    }\n",
       "</style>\n",
       "<table border=\"1\" class=\"dataframe\">\n",
       "  <thead>\n",
       "    <tr style=\"text-align: right;\">\n",
       "      <th></th>\n",
       "      <th>article_id</th>\n",
       "      <th>Link</th>\n",
       "    </tr>\n",
       "  </thead>\n",
       "  <tbody>\n",
       "    <tr>\n",
       "      <th>0</th>\n",
       "      <td>1</td>\n",
       "      <td>https://www.bbc.com/news/articles/cjewne81lq4o</td>\n",
       "    </tr>\n",
       "    <tr>\n",
       "      <th>1</th>\n",
       "      <td>2</td>\n",
       "      <td>https://www.bbc.com/news/articles/cjewne81lq4o</td>\n",
       "    </tr>\n",
       "    <tr>\n",
       "      <th>2</th>\n",
       "      <td>3</td>\n",
       "      <td>https://www.bbc.com/news/articles/cjewne81lq4o</td>\n",
       "    </tr>\n",
       "    <tr>\n",
       "      <th>3</th>\n",
       "      <td>4</td>\n",
       "      <td>https://www.bbc.com/news/articles/cjewne81lq4o</td>\n",
       "    </tr>\n",
       "    <tr>\n",
       "      <th>4</th>\n",
       "      <td>5</td>\n",
       "      <td>https://www.bbc.com/news/articles/cjewne81lq4o</td>\n",
       "    </tr>\n",
       "    <tr>\n",
       "      <th>5</th>\n",
       "      <td>6</td>\n",
       "      <td>https://www.bbc.com/news/articles/cjewne81lq4o</td>\n",
       "    </tr>\n",
       "    <tr>\n",
       "      <th>6</th>\n",
       "      <td>7</td>\n",
       "      <td>https://www.bbc.com/news/articles/cjewne81lq4o</td>\n",
       "    </tr>\n",
       "    <tr>\n",
       "      <th>7</th>\n",
       "      <td>8</td>\n",
       "      <td>https://www.bbc.com/news/articles/cjewne81lq4o</td>\n",
       "    </tr>\n",
       "    <tr>\n",
       "      <th>8</th>\n",
       "      <td>9</td>\n",
       "      <td>https://www.bbc.com/news/articles/cjewne81lq4o</td>\n",
       "    </tr>\n",
       "    <tr>\n",
       "      <th>9</th>\n",
       "      <td>10</td>\n",
       "      <td>https://www.bbc.com/news/articles/cjewne81lq4o</td>\n",
       "    </tr>\n",
       "    <tr>\n",
       "      <th>10</th>\n",
       "      <td>11</td>\n",
       "      <td>https://www.bbc.com/news/articles/c9qw58r0x0do</td>\n",
       "    </tr>\n",
       "    <tr>\n",
       "      <th>11</th>\n",
       "      <td>12</td>\n",
       "      <td>https://www.bbc.com/news/articles/c9qw58r0x0do</td>\n",
       "    </tr>\n",
       "    <tr>\n",
       "      <th>12</th>\n",
       "      <td>13</td>\n",
       "      <td>https://www.bbc.com/news/articles/c9qw58r0x0do</td>\n",
       "    </tr>\n",
       "    <tr>\n",
       "      <th>13</th>\n",
       "      <td>14</td>\n",
       "      <td>https://www.bbc.com/news/articles/c9qw58r0x0do</td>\n",
       "    </tr>\n",
       "    <tr>\n",
       "      <th>14</th>\n",
       "      <td>15</td>\n",
       "      <td>https://www.bbc.com/news/articles/c9qw58r0x0do</td>\n",
       "    </tr>\n",
       "  </tbody>\n",
       "</table>\n",
       "</div>"
      ],
      "text/plain": [
       "    article_id                                            Link\n",
       "0            1  https://www.bbc.com/news/articles/cjewne81lq4o\n",
       "1            2  https://www.bbc.com/news/articles/cjewne81lq4o\n",
       "2            3  https://www.bbc.com/news/articles/cjewne81lq4o\n",
       "3            4  https://www.bbc.com/news/articles/cjewne81lq4o\n",
       "4            5  https://www.bbc.com/news/articles/cjewne81lq4o\n",
       "5            6  https://www.bbc.com/news/articles/cjewne81lq4o\n",
       "6            7  https://www.bbc.com/news/articles/cjewne81lq4o\n",
       "7            8  https://www.bbc.com/news/articles/cjewne81lq4o\n",
       "8            9  https://www.bbc.com/news/articles/cjewne81lq4o\n",
       "9           10  https://www.bbc.com/news/articles/cjewne81lq4o\n",
       "10          11  https://www.bbc.com/news/articles/c9qw58r0x0do\n",
       "11          12  https://www.bbc.com/news/articles/c9qw58r0x0do\n",
       "12          13  https://www.bbc.com/news/articles/c9qw58r0x0do\n",
       "13          14  https://www.bbc.com/news/articles/c9qw58r0x0do\n",
       "14          15  https://www.bbc.com/news/articles/c9qw58r0x0do"
      ]
     },
     "execution_count": 12,
     "metadata": {},
     "output_type": "execute_result"
    }
   ],
   "source": [
    "articles_temp_df[['article_id', 'Link']].head(15)\n"
   ]
  },
  {
   "cell_type": "code",
   "execution_count": 14,
   "id": "c292d5f8",
   "metadata": {},
   "outputs": [
    {
     "name": "stdout",
     "output_type": "stream",
     "text": [
      "All keys in id_to_Link: [1, 2, 3, 4, 5, 6, 7, 8, 9, 10]\n",
      "All recommended_ids:                                                 Title  \\\n",
      "15  UK edges towards post-Brexit youth visa deal w...   \n",
      "22  Student killed in French school stabbing attac...   \n",
      "53  DRC government and M23 agree to halt fighting ...   \n",
      "54  DRC government and M23 agree to halt fighting ...   \n",
      "58  DRC government and M23 agree to halt fighting ...   \n",
      "\n",
      "                                              Content            Published  \\\n",
      "15  The government is no longer ruling out a youth...  2025-04-25 05:56:01   \n",
      "22  One student has been killed and at least three...  2025-04-24 20:17:00   \n",
      "53  Both sides say they have resolved to end confl...  2025-04-24 15:54:37   \n",
      "54  Both sides say they have resolved to end confl...  2025-04-25 01:31:37   \n",
      "58  Both sides say they have resolved to end confl...  2025-04-24 13:08:37   \n",
      "\n",
      "          Source                                               Link  \\\n",
      "15      BBC News     https://www.bbc.com/news/articles/c9qw58r0x0do   \n",
      "22      BBC News     https://www.bbc.com/news/articles/c787r15xngyo   \n",
      "53  The Guardian  https://www.theguardian.com/world/2025/apr/24/...   \n",
      "54  The Guardian  https://www.theguardian.com/world/2025/apr/24/...   \n",
      "58  The Guardian  https://www.theguardian.com/world/2025/apr/24/...   \n",
      "\n",
      "    article_id  \n",
      "15          16  \n",
      "22          23  \n",
      "53          54  \n",
      "54          55  \n",
      "58          59  \n"
     ]
    },
    {
     "data": {
      "text/plain": [
       "[]"
      ]
     },
     "execution_count": 14,
     "metadata": {},
     "output_type": "execute_result"
    }
   ],
   "source": [
    "# Choose a sample article (say, first one)\n",
    "sample_article_id = articles_temp_df['article_id'].iloc[0]\n",
    "\n",
    "# Recommend similar articles\n",
    "recommended_ids = recommender.recommend_similar_items(sample_article_id, top_n=5)\n",
    "\n",
    "# Convert back to URLs/titles for interpretation\n",
    "\n",
    "\n",
    "print(\"All keys in id_to_Link:\", list(id_to_Link.keys())[:10])\n",
    "print(\"All recommended_ids:\", recommended_ids)\n",
    "\n",
    "recommended_urls = [id_to_Link[rid] for rid in recommended_ids if rid in id_to_Link]\n",
    "recommended_urls\n"
   ]
  },
  {
   "cell_type": "code",
   "execution_count": 15,
   "id": "f7946279",
   "metadata": {},
   "outputs": [
    {
     "name": "stdout",
     "output_type": "stream",
     "text": [
      "                                                Title  \\\n",
      "15  UK edges towards post-Brexit youth visa deal w...   \n",
      "22  Student killed in French school stabbing attac...   \n",
      "53  DRC government and M23 agree to halt fighting ...   \n",
      "54  DRC government and M23 agree to halt fighting ...   \n",
      "58  DRC government and M23 agree to halt fighting ...   \n",
      "\n",
      "                                              Content            Published  \\\n",
      "15  The government is no longer ruling out a youth...  2025-04-25 05:56:01   \n",
      "22  One student has been killed and at least three...  2025-04-24 20:17:00   \n",
      "53  Both sides say they have resolved to end confl...  2025-04-24 15:54:37   \n",
      "54  Both sides say they have resolved to end confl...  2025-04-25 01:31:37   \n",
      "58  Both sides say they have resolved to end confl...  2025-04-24 13:08:37   \n",
      "\n",
      "          Source                                               Link  \\\n",
      "15      BBC News     https://www.bbc.com/news/articles/c9qw58r0x0do   \n",
      "22      BBC News     https://www.bbc.com/news/articles/c787r15xngyo   \n",
      "53  The Guardian  https://www.theguardian.com/world/2025/apr/24/...   \n",
      "54  The Guardian  https://www.theguardian.com/world/2025/apr/24/...   \n",
      "58  The Guardian  https://www.theguardian.com/world/2025/apr/24/...   \n",
      "\n",
      "    article_id  \n",
      "15          16  \n",
      "22          23  \n",
      "53          54  \n",
      "54          55  \n",
      "58          59  \n"
     ]
    }
   ],
   "source": [
    "print(recommended_ids)\n"
   ]
  }
 ],
 "metadata": {
  "kernelspec": {
   "display_name": ".venv",
   "language": "python",
   "name": "python3"
  },
  "language_info": {
   "codemirror_mode": {
    "name": "ipython",
    "version": 3
   },
   "file_extension": ".py",
   "mimetype": "text/x-python",
   "name": "python",
   "nbconvert_exporter": "python",
   "pygments_lexer": "ipython3",
   "version": "3.11.0"
  }
 },
 "nbformat": 4,
 "nbformat_minor": 5
}
